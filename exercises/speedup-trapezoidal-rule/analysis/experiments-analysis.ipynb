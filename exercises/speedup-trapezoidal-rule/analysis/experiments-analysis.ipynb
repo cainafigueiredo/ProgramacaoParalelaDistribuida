{
    "cells": [
        {
            "cell_type": "markdown",
            "source": [
                "# Importing libraries"
            ],
            "metadata": {}
        },
        {
            "cell_type": "code",
            "execution_count": 1,
            "source": [
                "import re\n",
                "import matplotlib.pyplot as plt\n",
                "import os\n",
                "import numpy as np\n",
                "import pandas as pd"
            ],
            "outputs": [],
            "metadata": {}
        },
        {
            "cell_type": "markdown",
            "source": [
                "# Loading experiments data"
            ],
            "metadata": {}
        },
        {
            "cell_type": "markdown",
            "source": [
                "## Processor information"
            ],
            "metadata": {}
        },
        {
            "cell_type": "code",
            "execution_count": 2,
            "source": [
                "processor_info = open('../data/processor-info.txt').read()\n",
                "model_name = re.findall(r'(Model name:.*)',processor_info)[0]\n",
                "number_sockets = re.findall(r'(Socket\\(s\\):.*)',processor_info)[0]\n",
                "cores_per_sockets = re.findall(r'(Core\\(s\\) per socket:.*)',processor_info)[0]\n",
                "threads_per_core = re.findall(r'(Thread\\(s\\) per core:.*)',processor_info)[0]\n",
                "\n",
                "print(\"All experiments were performed in a machine with processors:\\n\")\n",
                "print(\"{}\\n{}\\n{}\\n{}\".format(model_name,number_sockets,cores_per_sockets,threads_per_core))"
            ],
            "outputs": [
                {
                    "output_type": "stream",
                    "name": "stdout",
                    "text": [
                        "All experiments were performed in a machine with processors:\n",
                        "\n",
                        "Model name:                      Intel(R) Xeon(R) CPU @ 2.30GHz\n",
                        "Socket(s):                       1\n",
                        "Core(s) per socket:              8\n",
                        "Thread(s) per core:              2\n"
                    ]
                }
            ],
            "metadata": {}
        },
        {
            "cell_type": "markdown",
            "source": [
                "## Sequential experiment"
            ],
            "metadata": {}
        },
        {
            "cell_type": "code",
            "execution_count": 3,
            "source": [
                "sequential_results = open('../data/sequential.txt').read()\n",
                "\n",
                "trapezoidal_parameter_n = int(re.findall(r'.*Com n = ([0-9]*)',sequential_results)[0])\n",
                "trapezoidal_parameter_a = float(re.findall(r'.*integral de ([0-9]*\\.[0-9]*)',sequential_results)[0])\n",
                "trapezoidal_parameter_b = float(re.findall(r'.*até ([0-9]*\\.[0-9]*)',sequential_results)[0])\n",
                "trapezoidal_parameter_integral = float(re.findall(r'.*= ([0-9]*\\.[0-9]*)',sequential_results)[0])\n",
                "\n",
                "sequential_elapsed_seconds = float(re.findall(r'Foram gastos ([0-9]*\\.[0-9]*)',sequential_results)[0])\n",
                "\n",
                "print(\"Elapsed time for sequential code: {} seconds\\n\".format(sequential_elapsed_seconds))\n",
                "\n",
                "print(\"Problem parameters:\")\n",
                "print(\"\\tn = {}\\n\\ta = {}\\n\\tb = {}\\n\\tintegral = {}\".format(\n",
                "    trapezoidal_parameter_n,\n",
                "    trapezoidal_parameter_a,\n",
                "    trapezoidal_parameter_b,\n",
                "    trapezoidal_parameter_integral))"
            ],
            "outputs": [
                {
                    "output_type": "stream",
                    "name": "stdout",
                    "text": [
                        "Elapsed time for sequential code: 1.2 seconds\n",
                        "\n",
                        "Problem parameters:\n",
                        "\tn = 100000000\n",
                        "\ta = 0.0\n",
                        "\tb = 1.0\n",
                        "\tintegral = 1.718282\n"
                    ]
                }
            ],
            "metadata": {}
        },
        {
            "cell_type": "markdown",
            "source": [
                "## Paralel experiments"
            ],
            "metadata": {}
        },
        {
            "cell_type": "code",
            "execution_count": 4,
            "source": [
                "paralel_experiments_n_processors = np.sort(re.findall(r'paralel-(.*)\\.txt',\"\\n\".join(os.listdir(\"../data\"))))\n",
                "paralel_experiments_n_processors = list(map(lambda x: int(x), paralel_experiments_n_processors))\n",
                "\n",
                "paralel_elapsed_seconds = dict()\n",
                "\n",
                "for n in paralel_experiments_n_processors:\n",
                "    filename = \"paralel-{}.txt\".format(n)\n",
                "    paralel_results = open('../data/{}'.format(filename)).read()\n",
                "\n",
                "    try:\n",
                "        trapezoidal_parameter_n = int(re.findall(r'.*Com n = ([0-9]*)',paralel_results)[0])\n",
                "        trapezoidal_parameter_a = float(re.findall(r'.*integral de ([0-9]*\\.[0-9]*)',paralel_results)[0])\n",
                "        trapezoidal_parameter_b = float(re.findall(r'.*até ([0-9]*\\.[0-9]*)',paralel_results)[0])\n",
                "        trapezoidal_parameter_integral = float(re.findall(r'.*= ([0-9]*\\.[0-9]*)',paralel_results)[0])\n",
                "\n",
                "        paralel_elapsed_seconds[n] = float(re.findall(r'Foram gastos ([0-9]*\\.[0-9]*)',paralel_results)[0])\n",
                "\n",
                "        print(\"Elapsed time for paralel code: {} seconds\\n\".format(paralel_elapsed_seconds[n]))\n",
                "\n",
                "        print(\"Problem parameters:\")\n",
                "        print(\"\\tn = {}\\n\\ta = {}\\n\\tb = {}\\n\\tintegral = {}\\n\\n\".format(\n",
                "            trapezoidal_parameter_n,\n",
                "            trapezoidal_parameter_a,\n",
                "            trapezoidal_parameter_b,\n",
                "            trapezoidal_parameter_integral))\n",
                "\n",
                "    except:\n",
                "        print(\"It was not possible to parse experiment results. Please, check the file '../data/{}'.\\n\\n\".format(filename))"
            ],
            "outputs": [
                {
                    "output_type": "stream",
                    "name": "stdout",
                    "text": [
                        "It was not possible to parse experiment results. Please, check the file '../data/paralel-10.txt'.\n",
                        "\n",
                        "\n",
                        "It was not possible to parse experiment results. Please, check the file '../data/paralel-11.txt'.\n",
                        "\n",
                        "\n",
                        "It was not possible to parse experiment results. Please, check the file '../data/paralel-12.txt'.\n",
                        "\n",
                        "\n",
                        "It was not possible to parse experiment results. Please, check the file '../data/paralel-13.txt'.\n",
                        "\n",
                        "\n",
                        "It was not possible to parse experiment results. Please, check the file '../data/paralel-14.txt'.\n",
                        "\n",
                        "\n",
                        "It was not possible to parse experiment results. Please, check the file '../data/paralel-15.txt'.\n",
                        "\n",
                        "\n",
                        "It was not possible to parse experiment results. Please, check the file '../data/paralel-16.txt'.\n",
                        "\n",
                        "\n",
                        "Elapsed time for paralel code: 1.4 seconds\n",
                        "\n",
                        "Problem parameters:\n",
                        "\tn = 100000000\n",
                        "\ta = 0.0\n",
                        "\tb = 1.0\n",
                        "\tintegral = 1.718282\n",
                        "\n",
                        "\n",
                        "Elapsed time for paralel code: 0.9 seconds\n",
                        "\n",
                        "Problem parameters:\n",
                        "\tn = 100000000\n",
                        "\ta = 0.0\n",
                        "\tb = 1.0\n",
                        "\tintegral = 1.718282\n",
                        "\n",
                        "\n",
                        "Elapsed time for paralel code: 0.7 seconds\n",
                        "\n",
                        "Problem parameters:\n",
                        "\tn = 100000000\n",
                        "\ta = 0.0\n",
                        "\tb = 1.0\n",
                        "\tintegral = 1.718282\n",
                        "\n",
                        "\n",
                        "Elapsed time for paralel code: 0.5 seconds\n",
                        "\n",
                        "Problem parameters:\n",
                        "\tn = 100000000\n",
                        "\ta = 0.0\n",
                        "\tb = 1.0\n",
                        "\tintegral = 1.718282\n",
                        "\n",
                        "\n",
                        "Elapsed time for paralel code: 0.5 seconds\n",
                        "\n",
                        "Problem parameters:\n",
                        "\tn = 100000000\n",
                        "\ta = 0.0\n",
                        "\tb = 1.0\n",
                        "\tintegral = 1.718282\n",
                        "\n",
                        "\n",
                        "Elapsed time for paralel code: 0.4 seconds\n",
                        "\n",
                        "Problem parameters:\n",
                        "\tn = 100000000\n",
                        "\ta = 0.0\n",
                        "\tb = 1.0\n",
                        "\tintegral = 1.718282\n",
                        "\n",
                        "\n",
                        "Elapsed time for paralel code: 0.3 seconds\n",
                        "\n",
                        "Problem parameters:\n",
                        "\tn = 100000000\n",
                        "\ta = 0.0\n",
                        "\tb = 1.0\n",
                        "\tintegral = 1.718282\n",
                        "\n",
                        "\n",
                        "It was not possible to parse experiment results. Please, check the file '../data/paralel-9.txt'.\n",
                        "\n",
                        "\n"
                    ]
                }
            ],
            "metadata": {}
        },
        {
            "cell_type": "markdown",
            "source": [
                "# Generating plots"
            ],
            "metadata": {}
        },
        {
            "cell_type": "code",
            "execution_count": 5,
            "source": [
                "# Creating a pandas dataframe to the data\n",
                "n_processors = np.sort(list(paralel_elapsed_seconds.keys()))\n",
                "df = pd.DataFrame()\n",
                "df['paralel_n_processors'] = n_processors\n",
                "df['paralel_time(s)'] = list(map(lambda x: paralel_elapsed_seconds[x],n_processors))\n",
                "df['sequential_time(s)'] = sequential_elapsed_seconds\n",
                "df['ideal_speedup'] = n_processors\n",
                "df['speedup'] = [df['sequential_time(s)'][i]/df['paralel_time(s)'][i] for i in df.index]\n",
                "df"
            ],
            "outputs": [
                {
                    "output_type": "execute_result",
                    "data": {
                        "text/plain": [
                            "   paralel_n_processors  paralel_time(s)  sequential_time(s)  ideal_speedup  \\\n",
                            "0                     2              1.4                 1.2              2   \n",
                            "1                     3              0.9                 1.2              3   \n",
                            "2                     4              0.7                 1.2              4   \n",
                            "3                     5              0.5                 1.2              5   \n",
                            "4                     6              0.5                 1.2              6   \n",
                            "5                     7              0.4                 1.2              7   \n",
                            "6                     8              0.3                 1.2              8   \n",
                            "\n",
                            "    speedup  \n",
                            "0  0.857143  \n",
                            "1  1.333333  \n",
                            "2  1.714286  \n",
                            "3  2.400000  \n",
                            "4  2.400000  \n",
                            "5  3.000000  \n",
                            "6  4.000000  "
                        ],
                        "text/html": [
                            "<div>\n",
                            "<style scoped>\n",
                            "    .dataframe tbody tr th:only-of-type {\n",
                            "        vertical-align: middle;\n",
                            "    }\n",
                            "\n",
                            "    .dataframe tbody tr th {\n",
                            "        vertical-align: top;\n",
                            "    }\n",
                            "\n",
                            "    .dataframe thead th {\n",
                            "        text-align: right;\n",
                            "    }\n",
                            "</style>\n",
                            "<table border=\"1\" class=\"dataframe\">\n",
                            "  <thead>\n",
                            "    <tr style=\"text-align: right;\">\n",
                            "      <th></th>\n",
                            "      <th>paralel_n_processors</th>\n",
                            "      <th>paralel_time(s)</th>\n",
                            "      <th>sequential_time(s)</th>\n",
                            "      <th>ideal_speedup</th>\n",
                            "      <th>speedup</th>\n",
                            "    </tr>\n",
                            "  </thead>\n",
                            "  <tbody>\n",
                            "    <tr>\n",
                            "      <th>0</th>\n",
                            "      <td>2</td>\n",
                            "      <td>1.4</td>\n",
                            "      <td>1.2</td>\n",
                            "      <td>2</td>\n",
                            "      <td>0.857143</td>\n",
                            "    </tr>\n",
                            "    <tr>\n",
                            "      <th>1</th>\n",
                            "      <td>3</td>\n",
                            "      <td>0.9</td>\n",
                            "      <td>1.2</td>\n",
                            "      <td>3</td>\n",
                            "      <td>1.333333</td>\n",
                            "    </tr>\n",
                            "    <tr>\n",
                            "      <th>2</th>\n",
                            "      <td>4</td>\n",
                            "      <td>0.7</td>\n",
                            "      <td>1.2</td>\n",
                            "      <td>4</td>\n",
                            "      <td>1.714286</td>\n",
                            "    </tr>\n",
                            "    <tr>\n",
                            "      <th>3</th>\n",
                            "      <td>5</td>\n",
                            "      <td>0.5</td>\n",
                            "      <td>1.2</td>\n",
                            "      <td>5</td>\n",
                            "      <td>2.400000</td>\n",
                            "    </tr>\n",
                            "    <tr>\n",
                            "      <th>4</th>\n",
                            "      <td>6</td>\n",
                            "      <td>0.5</td>\n",
                            "      <td>1.2</td>\n",
                            "      <td>6</td>\n",
                            "      <td>2.400000</td>\n",
                            "    </tr>\n",
                            "    <tr>\n",
                            "      <th>5</th>\n",
                            "      <td>7</td>\n",
                            "      <td>0.4</td>\n",
                            "      <td>1.2</td>\n",
                            "      <td>7</td>\n",
                            "      <td>3.000000</td>\n",
                            "    </tr>\n",
                            "    <tr>\n",
                            "      <th>6</th>\n",
                            "      <td>8</td>\n",
                            "      <td>0.3</td>\n",
                            "      <td>1.2</td>\n",
                            "      <td>8</td>\n",
                            "      <td>4.000000</td>\n",
                            "    </tr>\n",
                            "  </tbody>\n",
                            "</table>\n",
                            "</div>"
                        ]
                    },
                    "metadata": {},
                    "execution_count": 5
                }
            ],
            "metadata": {}
        },
        {
            "cell_type": "code",
            "execution_count": 7,
            "source": [
                "df.plot.line(x=\"paralel_n_processors\",y=[\"ideal_speedup\",\"speedup\"])\n",
                "plt.ylabel(\"SPEEDUP\")\n",
                "plt.xlabel(\"NUMBER OF PROCESSES\")\n",
                "plt.title(\"SPEEDUP FOR TRAPEZOIDAL RULE\")"
            ],
            "outputs": [
                {
                    "output_type": "execute_result",
                    "data": {
                        "text/plain": [
                            "Text(0.5, 1.0, 'SPEEDUP FOR TRAPEZOIDAL RULE')"
                        ]
                    },
                    "metadata": {},
                    "execution_count": 7
                },
                {
                    "output_type": "display_data",
                    "data": {
                        "text/plain": [
                            "<Figure size 432x288 with 1 Axes>"
                        ],
                        "image/png": "[encoded data removed]"
                    },
                    "metadata": {
                        "needs_background": "light"
                    }
                }
            ],
            "metadata": {}
        },
        {
            "cell_type": "code",
            "execution_count": null,
            "source": [],
            "outputs": [],
            "metadata": {}
        }
    ],
    "metadata": {
        "orig_nbformat": 4,
        "language_info": {
            "name": "python",
            "version": "3.8.5",
            "mimetype": "text/x-python",
            "codemirror_mode": {
                "name": "ipython",
                "version": 3
            },
            "pygments_lexer": "ipython3",
            "nbconvert_exporter": "python",
            "file_extension": ".py"
        },
        "kernelspec": {
            "name": "python3",
            "display_name": "Python 3.8.5 64-bit"
        },
        "interpreter": {
            "hash": "31f2aee4e71d21fbe5cf8b01ff0e069b9275f58929596ceb00d14d90e3e16cd6"
        }
    },
    "nbformat": 4,
    "nbformat_minor": 2
}